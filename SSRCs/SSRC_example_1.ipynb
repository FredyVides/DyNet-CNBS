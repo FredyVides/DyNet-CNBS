{
 "cells": [
  {
   "cell_type": "markdown",
   "metadata": {
    "id": "g22lTbLnoPah"
   },
   "source": [
    "# Stochastically Structured Reservoir Computers (SSRC)"
   ]
  },
  {
   "cell_type": "markdown",
   "metadata": {
    "id": "CPnf5vtEoPam"
   },
   "source": [
    "This notebook contains the prototypical algorithms and computational examples described Section 4 in the paper *Stochastically Structured Reservoir Computers for Financial and Economic System Identification* (2025). Specifically, this Jupyter Notebook includes sections 5.1, corresponding to:\n",
    "\n",
    "1. **Computational Example 1**: *Preference evolution for an investment coalition: A Dynamic and Behavioral Approach*.\n",
    "\n",
    "SSRC consists of a collection of functions written in Python that can be used for stochastically structured reservoir computing for identification and numerical simulation of economic and financial dynamical systems.\n",
    "\n",
    "The numerical experiments programmed in this notebook use synthetic and real data for stochastically structured reservoir computer based model identification."
   ]
  },
  {
   "cell_type": "markdown",
   "metadata": {
    "id": "9RySP4btoPan"
   },
   "source": [
    "## Components of Algorithm 2: SSRC Model Identification"
   ]
  },
  {
   "cell_type": "code",
   "execution_count": 32,
   "metadata": {},
   "outputs": [],
   "source": [
    "from numpy import ones,zeros\n",
    "from matplotlib.pyplot import plot, spy,subplot,grid,axis\n",
    "from numpy.linalg import pinv\n",
    "from networkx import draw_networkx, DiGraph, circular_layout"
   ]
  },
  {
   "cell_type": "code",
   "execution_count": 2,
   "metadata": {
    "id": "97QuWcr6ujWp"
   },
   "outputs": [],
   "source": [
    "\"\"\"\n",
    "Created on Wed Jul 13 15:47:34 2022\n",
    "RFactor\n",
    "@author: doctor\n",
    "\"\"\"\n",
    "\n",
    "def SRFactor(s,L,tp,method = \"random\",tol = 1e-15, scale = 1e0):\n",
    "    from numpy import zeros, where, vstack\n",
    "    sL = s*L\n",
    "    if method == \"random\":\n",
    "        from numpy.random import randn\n",
    "        z = scale*randn(sL,1)\n",
    "        z = NLMap(z, tp)\n",
    "        z[-1] = scale*randn()\n",
    "    elif method == \"prime\":\n",
    "        from PrimeGenerator import PrimeGenerator\n",
    "        z0 = PrimeGenerator(sL+1,int(sL/2))\n",
    "        z = NLMap(z0[:-1], tp)\n",
    "        z[-1] = z0[-1]\n",
    "    N = int((sL**(tp+1)-sL)/(sL-1))+1\n",
    "    w0 = zeros((1,N))\n",
    "    R = w0.copy()\n",
    "    R[0,0] = 1\n",
    "    for j in range(1,N):\n",
    "        f = where(abs(z-z[j])<tol)\n",
    "        if f[0][0] == j:\n",
    "            w0[0,f] = 1\n",
    "            R = vstack((R,w0))\n",
    "            w0[0,f] = 0\n",
    "    return R"
   ]
  },
  {
   "cell_type": "code",
   "execution_count": 3,
   "metadata": {
    "id": "kP-5twwmoPav"
   },
   "outputs": [],
   "source": [
    "\"\"\"\n",
    "Created on Fri Sept 29 15:27:32 2022\n",
    "NLMap Nonlinear data mapping\n",
    "   Code by Fredy Vides\n",
    "   For Paper, \"Approximating equivariant evolution operators with\n",
    "   recurrent reservoir computers\"\n",
    "   by F. Vides\n",
    "@author: Fredy Vides\n",
    "\"\"\"\n",
    "\n",
    "def NLMap(x,tp):\n",
    "    from numpy import append, kron\n",
    "    p = x\n",
    "    q = p\n",
    "    for k in range(tp-1):\n",
    "        q = kron(x,q)\n",
    "        p = append(p,q)\n",
    "    p = append(p,1)\n",
    "    return p"
   ]
  },
  {
   "cell_type": "code",
   "execution_count": 4,
   "metadata": {
    "id": "i5NTtV1VykP_"
   },
   "outputs": [],
   "source": [
    "def nnspsolver(A,Y,L=100,nz=100,delta=1e-2,tol=1e-3):\n",
    "    from numpy.linalg import lstsq\n",
    "    from scipy.optimize import nnls\n",
    "    from numpy.linalg import svd,norm\n",
    "    from numpy import zeros,dot,argsort,inf\n",
    "    N = A.shape[1]\n",
    "    if nz<0:\n",
    "        nz = N\n",
    "    X=zeros((N,1))\n",
    "    X0 = X.copy()\n",
    "    X0[:,0] = nnls(A,Y)[0]\n",
    "    w=zeros((N,))\n",
    "    K=1\n",
    "    Error=1+tol\n",
    "    c=X0[:,0]\n",
    "    x0=c\n",
    "    ac=abs(c)\n",
    "    f=argsort(-ac)\n",
    "    N0=int(min(sum(ac[f]>delta),nz))\n",
    "    while (K<=L) & (Error>tol):\n",
    "        ff=f[:N0]\n",
    "        X[:,0]=w\n",
    "        c = nnls(A[:,ff],Y)[0]\n",
    "        X[ff,0]=c\n",
    "        Error=norm(x0-X[:,0],inf)\n",
    "        x0=X[:,0]\n",
    "        ac=abs(x0)\n",
    "        f=argsort(-ac)\n",
    "        N0=int(min(sum(ac[f]>delta),nz))\n",
    "        K=K+1\n",
    "    return X"
   ]
  },
  {
   "cell_type": "code",
   "execution_count": 5,
   "metadata": {},
   "outputs": [],
   "source": [
    "def SSRep(datos_ent,datos_sal,ss,delta=1e-6,tol=1e-3):\n",
    "    from numpy import kron, identity, diag\n",
    "    n0 = datos_ent.shape[0]\n",
    "    n1 = datos_sal.shape[0]\n",
    "    S0 = datos_ent[:,:ss]\n",
    "    S0 = kron(S0,identity(n1)).T\n",
    "    S1 = S0.T@((datos_sal[:,1:(1+ss)]).T).reshape(ss*n1)\n",
    "    C = kron(identity(n0),ones((1,n1)))\n",
    "    Mr = zeros((n0*n1+n0,n0*n1))\n",
    "    Mr[:n0*n1,:] = S0.T@S0\n",
    "    Mr[n0*n1:,:] = C\n",
    "    rhs = zeros((n1*n0+n0))\n",
    "    rhs[:n1*n0] = S1\n",
    "    rhs[n1*n0:] = 1\n",
    "    c = zeros((n0*n1,1))\n",
    "    c[:,:1] = nnspsolver(Mr,rhs,delta=delta,tol=tol,nz=len(rhs))\n",
    "    Pr = c.reshape(n0,n1).T\n",
    "    Pr = Pr@diag(1/sum(Pr))\n",
    "    return Pr"
   ]
  },
  {
   "cell_type": "code",
   "execution_count": 6,
   "metadata": {},
   "outputs": [],
   "source": [
    "def SSRep_2(data_in,data_out,SM=1,sample_size=39,delta = 1e-6,tol=1e-3,nz = 100):\n",
    "    from numpy import isscalar, zeros, where, diag\n",
    "    from scipy.optimize import nnls\n",
    "    n0 = data_out.shape[0]\n",
    "    m0 = data_in.shape[0]\n",
    "    E0 = zeros((n0,m0))\n",
    "    A = E0.copy()\n",
    "    D = data_in[:,:sample_size]\n",
    "    X1 = data_out[:,1:(sample_size+1)]\n",
    "    X1 = (X1.T).reshape(sample_size*n0)\n",
    "    Index = E0.copy()\n",
    "    if isscalar(SM):\n",
    "        A0 = zeros((n0,m0))\n",
    "        A0[:,:] = 1\n",
    "    else:\n",
    "        A0 = SM\n",
    "    indices = where(A0.T)\n",
    "    Index[indices[1],indices[0]] = range(len(indices[0]))\n",
    "    Index = Index.astype('int')\n",
    "    n = len(indices[0])\n",
    "    X0 = zeros((sample_size*n0,n))\n",
    "    for k in range(n):\n",
    "            E0[indices[1][k],indices[0][k]] = 1\n",
    "            X0[:,k] = ((E0@D).T).reshape(sample_size*n0)\n",
    "            E0[indices[1][k],indices[0][k]] = 0\n",
    "    C = zeros((m0,n))\n",
    "    for l in range(m0):\n",
    "        C[l,Index[where(A0[:,l]),l]] = 1\n",
    "    Mr = zeros((n+m0,n))\n",
    "    Mr[:n,:n] = X0.T@X0\n",
    "    Mr[n:,:n] = C\n",
    "    rhs = zeros((n+m0,1))\n",
    "    rhs[:n,0] = X0.T@X1\n",
    "    rhs[n:,0] = 1\n",
    "    a = nnspsolver(Mr,rhs[:,0],delta=delta,tol=tol,nz=len(rhs))#nnls(Mr,rhs[:,0])[0]\n",
    "    A[indices[1],indices[0]] = a[:,0]\n",
    "    sumA=sum(A)\n",
    "    sumA[where(sumA==0)[0]]=1\n",
    "    A = A@diag(1/sumA)\n",
    "    return A"
   ]
  },
  {
   "cell_type": "markdown",
   "metadata": {},
   "source": [
    "# Computational example 1"
   ]
  },
  {
   "cell_type": "code",
   "execution_count": 7,
   "metadata": {},
   "outputs": [],
   "source": [
    "def modelo_cdi(N,p=0.5):\n",
    "    from numpy import zeros\n",
    "    A = zeros((N+1,N+1))\n",
    "    A[0,0] = A[N,N] = 1\n",
    "    for j in range(N-1):\n",
    "        A[j+1,j] = 1-p\n",
    "        A[j+1,j+2] = p\n",
    "    return A"
   ]
  },
  {
   "cell_type": "code",
   "execution_count": 8,
   "metadata": {},
   "outputs": [],
   "source": [
    "# Portfolio account numbers\n",
    "N = 5\n",
    "# Portfolio account choice P-parameter\n",
    "p = 0.55\n",
    "# Simulation time horizon\n",
    "T = 100"
   ]
  },
  {
   "cell_type": "code",
   "execution_count": 9,
   "metadata": {},
   "outputs": [],
   "source": [
    "A = modelo_cdi(N-1,p).T"
   ]
  },
  {
   "cell_type": "code",
   "execution_count": 10,
   "metadata": {},
   "outputs": [
    {
     "data": {
      "text/plain": [
       "array([[1.  , 0.45, 0.  , 0.  , 0.  ],\n",
       "       [0.  , 0.  , 0.45, 0.  , 0.  ],\n",
       "       [0.  , 0.55, 0.  , 0.45, 0.  ],\n",
       "       [0.  , 0.  , 0.55, 0.  , 0.  ],\n",
       "       [0.  , 0.  , 0.  , 0.55, 1.  ]])"
      ]
     },
     "execution_count": 10,
     "metadata": {},
     "output_type": "execute_result"
    }
   ],
   "source": [
    "A"
   ]
  },
  {
   "cell_type": "code",
   "execution_count": 11,
   "metadata": {},
   "outputs": [],
   "source": [
    "Ap = zeros((5,8))\n",
    "Ap[:,:5] = A"
   ]
  },
  {
   "cell_type": "code",
   "execution_count": 12,
   "metadata": {},
   "outputs": [],
   "source": [
    "def phi(x,s):\n",
    "    from numpy import zeros\n",
    "    q = zeros(8)\n",
    "    q[:5] = s[0]*x\n",
    "    q[5] = s[1]*x[0]*x[1]\n",
    "    q[6] = s[1]*x[2]*x[4]\n",
    "    q[7] = s[1] - q[5] - q[6]\n",
    "    return q"
   ]
  },
  {
   "cell_type": "code",
   "execution_count": 13,
   "metadata": {},
   "outputs": [],
   "source": [
    "p = zeros((5,100))\n",
    "pxp = zeros((8,100))\n",
    "p[:,0] = [0.25,0.5,0.25,0,0]\n",
    "s = [0.9,0.1]\n",
    "pxp[:,0] = phi(p[:,0],s)\n",
    "for k in range(99):\n",
    "    p[:,k+1] = 0.9*A@p[:,k]\n",
    "    p[0,k+1] = p[0,k+1]+0.1*(0.8*p[0,k]*p[1,k]+0.1*p[2,k]*p[4,k])\n",
    "    p[4,k+1] = p[4,k+1]+0.1*(0.2*p[0,k]*p[1,k]+0.9*p[2,k]*p[4,k]+1*(1-(p[0,k]*p[1,k]+p[2,k]*p[4,k])))\n",
    "    pxp[:,k+1] = phi(p[:,k+1],s)"
   ]
  },
  {
   "cell_type": "code",
   "execution_count": 14,
   "metadata": {},
   "outputs": [
    {
     "data": {
      "text/plain": [
       "<matplotlib.image.AxesImage at 0x7cb9904db760>"
      ]
     },
     "execution_count": 14,
     "metadata": {},
     "output_type": "execute_result"
    },
    {
     "data": {
      "image/png": "[encoded data removed]",
      "text/plain": [
       "<Figure size 432x288 with 1 Axes>"
      ]
     },
     "metadata": {
      "needs_background": "light"
     },
     "output_type": "display_data"
    }
   ],
   "source": [
    "from numpy import ones \n",
    "SWp = ones((5,8))\n",
    "SWp[:,:5] = (A>1e-10)*SWp[:,:5]\n",
    "spy(SWp)"
   ]
  },
  {
   "cell_type": "code",
   "execution_count": 15,
   "metadata": {},
   "outputs": [
    {
     "data": {
      "text/plain": [
       "[<matplotlib.lines.Line2D at 0x7cb982e96050>,\n",
       " <matplotlib.lines.Line2D at 0x7cb982e96140>,\n",
       " <matplotlib.lines.Line2D at 0x7cb982e96230>,\n",
       " <matplotlib.lines.Line2D at 0x7cb982e96320>,\n",
       " <matplotlib.lines.Line2D at 0x7cb982e96410>]"
      ]
     },
     "execution_count": 15,
     "metadata": {},
     "output_type": "execute_result"
    },
    {
     "data": {
      "image/png": "[encoded data removed]",
      "text/plain": [
       "<Figure size 432x288 with 1 Axes>"
      ]
     },
     "metadata": {
      "needs_background": "light"
     },
     "output_type": "display_data"
    }
   ],
   "source": [
    "Wp = SSRep(pxp,p,ss=40,delta=1e-2)\n",
    "plot(p[:,1:].T);plot((Wp@pxp[:,:-1]).T,'--')"
   ]
  },
  {
   "cell_type": "code",
   "execution_count": 16,
   "metadata": {},
   "outputs": [
    {
     "data": {
      "text/plain": [
       "<matplotlib.image.AxesImage at 0x7cb982f1b9a0>"
      ]
     },
     "execution_count": 16,
     "metadata": {},
     "output_type": "execute_result"
    },
    {
     "data": {
      "image/png": "[encoded data removed]",
      "text/plain": [
       "<Figure size 432x288 with 1 Axes>"
      ]
     },
     "metadata": {
      "needs_background": "light"
     },
     "output_type": "display_data"
    }
   ],
   "source": [
    "spy(Wp)"
   ]
  },
  {
   "cell_type": "code",
   "execution_count": 17,
   "metadata": {},
   "outputs": [
    {
     "data": {
      "text/plain": [
       "array([[1.  , 0.45, 0.  , 0.  , 0.  , 0.8 , 0.1 , 0.  ],\n",
       "       [0.  , 0.  , 0.45, 0.  , 0.  , 0.  , 0.  , 0.  ],\n",
       "       [0.  , 0.55, 0.  , 0.45, 0.  , 0.  , 0.  , 0.  ],\n",
       "       [0.  , 0.  , 0.55, 0.  , 0.  , 0.  , 0.  , 0.  ],\n",
       "       [0.  , 0.  , 0.  , 0.55, 1.  , 0.2 , 0.9 , 1.  ]])"
      ]
     },
     "execution_count": 17,
     "metadata": {},
     "output_type": "execute_result"
    }
   ],
   "source": [
    "Wp"
   ]
  },
  {
   "cell_type": "code",
   "execution_count": 18,
   "metadata": {},
   "outputs": [],
   "source": [
    "Wp1 = SSRep_2(pxp,p,sample_size=30,delta=1e-6,SM=(abs(Wp)>1e-10))"
   ]
  },
  {
   "cell_type": "code",
   "execution_count": 19,
   "metadata": {},
   "outputs": [
    {
     "data": {
      "text/plain": [
       "array([[1.  , 0.45, 0.  , 0.  , 0.  , 0.8 , 0.1 , 0.  ],\n",
       "       [0.  , 0.  , 0.45, 0.  , 0.  , 0.  , 0.  , 0.  ],\n",
       "       [0.  , 0.55, 0.  , 0.45, 0.  , 0.  , 0.  , 0.  ],\n",
       "       [0.  , 0.  , 0.55, 0.  , 0.  , 0.  , 0.  , 0.  ],\n",
       "       [0.  , 0.  , 0.  , 0.55, 1.  , 0.2 , 0.9 , 1.  ]])"
      ]
     },
     "execution_count": 19,
     "metadata": {},
     "output_type": "execute_result"
    }
   ],
   "source": [
    "Wp1"
   ]
  },
  {
   "cell_type": "code",
   "execution_count": 20,
   "metadata": {},
   "outputs": [
    {
     "data": {
      "text/plain": [
       "[<matplotlib.lines.Line2D at 0x7cb982db30a0>,\n",
       " <matplotlib.lines.Line2D at 0x7cb982db3190>,\n",
       " <matplotlib.lines.Line2D at 0x7cb982db3280>,\n",
       " <matplotlib.lines.Line2D at 0x7cb982db3370>,\n",
       " <matplotlib.lines.Line2D at 0x7cb982db3460>]"
      ]
     },
     "execution_count": 20,
     "metadata": {},
     "output_type": "execute_result"
    },
    {
     "data": {
      "image/png": "[encoded data removed]",
      "text/plain": [
       "<Figure size 432x288 with 1 Axes>"
      ]
     },
     "metadata": {
      "needs_background": "light"
     },
     "output_type": "display_data"
    }
   ],
   "source": [
    "plot(p[:,1:].T);plot((Wp1@pxp[:,:-1]).T,'--')"
   ]
  },
  {
   "cell_type": "code",
   "execution_count": 21,
   "metadata": {},
   "outputs": [],
   "source": [
    "Wp2 = p[:,1:31]@pinv(pxp[:,:30])"
   ]
  },
  {
   "cell_type": "code",
   "execution_count": 22,
   "metadata": {},
   "outputs": [
    {
     "data": {
      "text/plain": [
       "array([1.08870968, 1.08870968, 1.08870968, 1.08870968, 1.08870968,\n",
       "       0.2016129 , 0.2016129 , 0.2016129 ])"
      ]
     },
     "execution_count": 22,
     "metadata": {},
     "output_type": "execute_result"
    }
   ],
   "source": [
    "sum(Wp2)"
   ]
  },
  {
   "cell_type": "code",
   "execution_count": 23,
   "metadata": {},
   "outputs": [
    {
     "data": {
      "text/plain": [
       "array([[ 1.02681452,  0.47681452,  0.02681452,  0.02681452,  0.02681452,\n",
       "         0.55866935, -0.14133065, -0.24133065],\n",
       "       [-0.00181452, -0.00181452,  0.44818548, -0.00181452, -0.00181452,\n",
       "         0.01633065,  0.01633065,  0.01633065],\n",
       "       [-0.00403226,  0.54596774, -0.00403226,  0.44596774, -0.00403226,\n",
       "         0.03629032,  0.03629032,  0.03629032],\n",
       "       [-0.00221774, -0.00221774,  0.54778226, -0.00221774, -0.00221774,\n",
       "         0.01995968,  0.01995968,  0.01995968],\n",
       "       [ 0.06995968,  0.06995968,  0.06995968,  0.61995968,  1.06995968,\n",
       "        -0.4296371 ,  0.2703629 ,  0.3703629 ]])"
      ]
     },
     "execution_count": 23,
     "metadata": {},
     "output_type": "execute_result"
    }
   ],
   "source": [
    "Wp2 = (abs(Wp2)>1e-15)*Wp2\n",
    "Wp2"
   ]
  },
  {
   "cell_type": "code",
   "execution_count": 24,
   "metadata": {},
   "outputs": [
    {
     "data": {
      "text/plain": [
       "<matplotlib.image.AxesImage at 0x7cb982e50bb0>"
      ]
     },
     "execution_count": 24,
     "metadata": {},
     "output_type": "execute_result"
    },
    {
     "data": {
      "image/png": "[encoded data removed]",
      "text/plain": [
       "<Figure size 432x288 with 1 Axes>"
      ]
     },
     "metadata": {
      "needs_background": "light"
     },
     "output_type": "display_data"
    }
   ],
   "source": [
    "spy(Wp1)"
   ]
  },
  {
   "cell_type": "code",
   "execution_count": 25,
   "metadata": {},
   "outputs": [
    {
     "data": {
      "text/plain": [
       "[<matplotlib.lines.Line2D at 0x7cb982cb3490>,\n",
       " <matplotlib.lines.Line2D at 0x7cb982cb3580>,\n",
       " <matplotlib.lines.Line2D at 0x7cb982cb3670>,\n",
       " <matplotlib.lines.Line2D at 0x7cb982cb3760>,\n",
       " <matplotlib.lines.Line2D at 0x7cb982cb3850>]"
      ]
     },
     "execution_count": 25,
     "metadata": {},
     "output_type": "execute_result"
    },
    {
     "data": {
      "image/png": "[encoded data removed]",
      "text/plain": [
       "<Figure size 432x288 with 1 Axes>"
      ]
     },
     "metadata": {
      "needs_background": "light"
     },
     "output_type": "display_data"
    }
   ],
   "source": [
    "plot(p[:,1:].T);plot((Wp2@pxp[:,:-1]).T,'--')"
   ]
  },
  {
   "cell_type": "code",
   "execution_count": 26,
   "metadata": {},
   "outputs": [
    {
     "data": {
      "text/plain": [
       "<matplotlib.image.AxesImage at 0x7cb982d55510>"
      ]
     },
     "execution_count": 26,
     "metadata": {},
     "output_type": "execute_result"
    },
    {
     "data": {
      "image/png": "[encoded data removed]",
      "text/plain": [
       "<Figure size 432x288 with 1 Axes>"
      ]
     },
     "metadata": {
      "needs_background": "light"
     },
     "output_type": "display_data"
    }
   ],
   "source": [
    "spy(Wp2)"
   ]
  },
  {
   "cell_type": "code",
   "execution_count": 27,
   "metadata": {},
   "outputs": [
    {
     "data": {
      "text/plain": [
       "[<matplotlib.lines.Line2D at 0x7cb982bf03d0>,\n",
       " <matplotlib.lines.Line2D at 0x7cb982bf04c0>,\n",
       " <matplotlib.lines.Line2D at 0x7cb982bf05b0>,\n",
       " <matplotlib.lines.Line2D at 0x7cb982bf06a0>,\n",
       " <matplotlib.lines.Line2D at 0x7cb982bf0790>]"
      ]
     },
     "execution_count": 27,
     "metadata": {},
     "output_type": "execute_result"
    },
    {
     "data": {
      "image/png": "[encoded data removed]",
      "text/plain": [
       "<Figure size 432x288 with 1 Axes>"
      ]
     },
     "metadata": {
      "needs_background": "light"
     },
     "output_type": "display_data"
    }
   ],
   "source": [
    "plot(p[:,1:].T);plot((Wp2@pxp[:,:-1]).T,'--')"
   ]
  },
  {
   "cell_type": "code",
   "execution_count": 28,
   "metadata": {},
   "outputs": [],
   "source": [
    "p0 = zeros((5,100))\n",
    "p0[:,0] = p[:,0]\n",
    "pxp0=zeros(8)\n",
    "for j in range(99):\n",
    "    pxp0 = phi(p0[:,j],[0.9,0.1])\n",
    "    p0[:,j+1] = Wp1@pxp0"
   ]
  },
  {
   "cell_type": "code",
   "execution_count": 29,
   "metadata": {},
   "outputs": [],
   "source": [
    "def RelGraph(GMatrix):\n",
    "    from numpy import where, hstack\n",
    "    GMatrix = GMatrix.T\n",
    "    nodes = []\n",
    "    edges = []\n",
    "    st = []\n",
    "    tt = []\n",
    "    for j in range(GMatrix.shape[0]):\n",
    "        f0 = where(GMatrix[j,:]>0)[0]\n",
    "        nodes.append(j)\n",
    "        tt = hstack((tt,f0))\n",
    "        st = hstack((st,j*ones(len(f0))))\n",
    "\n",
    "    st = st.astype('int')\n",
    "    tt = tt.astype('int')\n",
    "    for k in range(len(st)):\n",
    "        edges.append((st[k],tt[k]))\n",
    "\n",
    "    G = DiGraph()\n",
    "    G.add_nodes_from(nodes)\n",
    "    G.add_edges_from(edges)\n",
    "    return G"
   ]
  },
  {
   "cell_type": "code",
   "execution_count": 30,
   "metadata": {},
   "outputs": [
    {
     "data": {
      "image/png": "[encoded data removed]",
      "text/plain": [
       "<Figure size 432x288 with 2 Axes>"
      ]
     },
     "metadata": {
      "needs_background": "light"
     },
     "output_type": "display_data"
    }
   ],
   "source": [
    "subplot(1,2,1),plot(p[:,1:].T);plot((Wp1@pxp[:,:-1]).T,'--');grid('On');\n",
    "subplot(1,2,2);plot(p.T);plot(p0.T,'--');grid('On');"
   ]
  },
  {
   "cell_type": "code",
   "execution_count": 33,
   "metadata": {},
   "outputs": [
    {
     "data": {
      "image/png": "[encoded data removed]",
      "text/plain": [
       "<Figure size 432x288 with 2 Axes>"
      ]
     },
     "metadata": {
      "needs_background": "light"
     },
     "output_type": "display_data"
    }
   ],
   "source": [
    "Wpc = zeros((Wp1.shape[1],Wp1.shape[1]))\n",
    "Wpc[:Wp1.shape[0],:] = Wp1\n",
    "G = RelGraph(Wpc)\n",
    "subplot(2,2,1),spy(Wp1),axis('tight');\n",
    "pos = circular_layout(G)\n",
    "subplot(2,2,2),draw_networkx(G,node_color = 'green',pos = pos),axis('tight');"
   ]
  },
  {
   "cell_type": "markdown",
   "metadata": {
    "id": "jGpzWxDmoPa9"
   },
   "source": [
    "# References\n",
    "1. Banegas, L., Vides. F. Stochastically Structured Reservoir Computers for Financial and Economic System Identification. arXiv:2507.17115 [math.OC]\n",
    "2. Vides, F., Nogueira, I., Lopez Gutierrez, G., Banegas, L., Flores, E. (2025). Identifying Systems with Symmetries using Equivariant Autoregressive Reservoir Computers. arXiv:2311.09511 [eess.SY]"
   ]
  }
 ],
 "metadata": {
  "colab": {
   "provenance": []
  },
  "kernelspec": {
   "display_name": "Python 3 (ipykernel)",
   "language": "python",
   "name": "python3"
  },
  "language_info": {
   "codemirror_mode": {
    "name": "ipython",
    "version": 3
   },
   "file_extension": ".py",
   "mimetype": "text/x-python",
   "name": "python",
   "nbconvert_exporter": "python",
   "pygments_lexer": "ipython3",
   "version": "3.10.12"
  }
 },
 "nbformat": 4,
 "nbformat_minor": 1
}
